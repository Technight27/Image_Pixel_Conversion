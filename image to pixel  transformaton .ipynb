{
 "cells": [
  {
   "cell_type": "code",
   "execution_count": 1,
   "id": "f6ba2df4",
   "metadata": {},
   "outputs": [
    {
     "name": "stdout",
     "output_type": "stream",
     "text": [
      "Pixel values saved to C:\\Users\\Sayan\\Downloads\\pixel_values.xlsx\n"
     ]
    }
   ],
   "source": [
    "from PIL import Image\n",
    "import openpyxl\n",
    "\n",
    "try:\n",
    "    # Load image\n",
    "    image_path = 'C:\\\\Users\\\\Sayan\\\\Downloads\\\\sample.jpg'\n",
    "    original_image = Image.open(image_path)\n",
    "\n",
    "    # Convert image to grayscale for simplicity\n",
    "    gray_image = original_image.convert('L')\n",
    "\n",
    "    # Get pixel values as a 2D matrix\n",
    "    pixel_matrix = list(gray_image.getdata())\n",
    "    width, height = gray_image.size\n",
    "    pixel_matrix = [pixel_matrix[i:i + width] for i in range(0, len(pixel_matrix), width)]\n",
    "\n",
    "    # Create a new Excel workbook\n",
    "    wb = openpyxl.Workbook()\n",
    "    ws = wb.active\n",
    "\n",
    "    # Write pixel values to Excel sheet\n",
    "    for y in range(height):\n",
    "        for x in range(width):\n",
    "            pixel_value = pixel_matrix[y][x]\n",
    "            ws.cell(row=y+1, column=x+1, value=pixel_value)\n",
    "\n",
    "    # Save the Excel workbook\n",
    "    excel_file = 'C:\\\\Users\\\\Sayan\\\\Downloads\\\\pixel_values.xlsx'\n",
    "    wb.save(excel_file)\n",
    "    print(f\"Pixel values saved to {excel_file}\")\n",
    "\n",
    "except Exception as e:\n",
    "    print(f\"Error: {e}\")\n"
   ]
  },
  {
   "cell_type": "code",
   "execution_count": 2,
   "id": "1778ae1e",
   "metadata": {},
   "outputs": [
    {
     "name": "stdout",
     "output_type": "stream",
     "text": [
      "Image reconstruction successful.\n"
     ]
    }
   ],
   "source": [
    "from PIL import Image\n",
    "import openpyxl\n",
    "\n",
    "try:\n",
    "    # Load Excel workbook\n",
    "    excel_file = 'C:\\\\Users\\\\Sayan\\\\Downloads\\\\pixel_values.xlsx'\n",
    "    wb = openpyxl.load_workbook(excel_file)\n",
    "    ws = wb.active\n",
    "\n",
    "    # Get pixel values from Excel sheet\n",
    "    pixel_matrix = []\n",
    "    for row in ws.iter_rows(values_only=True):\n",
    "        pixel_matrix.append(list(row))\n",
    "\n",
    "    # Reconstruct the image from the matrix\n",
    "    width = len(pixel_matrix[0])\n",
    "    height = len(pixel_matrix)\n",
    "    reconstructed_image = Image.new('L', (width, height))\n",
    "    reconstructed_image.putdata([pixel for row in pixel_matrix for pixel in row])\n",
    "\n",
    "    # Save or display the reconstructed image\n",
    "    reconstructed_image.save('reconstructed_image.jpg')\n",
    "    reconstructed_image.show()  # Display the reconstructed image\n",
    "    print(\"Image reconstruction successful.\")\n",
    "\n",
    "except Exception as e:\n",
    "    print(f\"Error: {e}\")\n"
   ]
  },
  {
   "cell_type": "code",
   "execution_count": null,
   "id": "49ec7b75",
   "metadata": {},
   "outputs": [],
   "source": []
  }
 ],
 "metadata": {
  "kernelspec": {
   "display_name": "Python 3 (ipykernel)",
   "language": "python",
   "name": "python3"
  },
  "language_info": {
   "codemirror_mode": {
    "name": "ipython",
    "version": 3
   },
   "file_extension": ".py",
   "mimetype": "text/x-python",
   "name": "python",
   "nbconvert_exporter": "python",
   "pygments_lexer": "ipython3",
   "version": "3.11.4"
  }
 },
 "nbformat": 4,
 "nbformat_minor": 5
}
